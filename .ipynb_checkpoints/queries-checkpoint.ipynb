{
 "cells": [
  {
   "cell_type": "code",
   "execution_count": 1,
   "metadata": {
    "collapsed": false
   },
   "outputs": [],
   "source": [
    "from wowlib import mongoconnection, queries, wowapi\n",
    "auctions = mongoconnection.auctionconnection()"
   ]
  },
  {
   "cell_type": "code",
   "execution_count": 11,
   "metadata": {
    "collapsed": false
   },
   "outputs": [],
   "source": [
    "x =auctions.find_one({'auc':184043683}, {'bidtrac':[0,0]})"
   ]
  },
  {
   "cell_type": "code",
   "execution_count": 2,
   "metadata": {
    "collapsed": false
   },
   "outputs": [
    {
     "ename": "NameError",
     "evalue": "name 'x' is not defined",
     "output_type": "error",
     "traceback": [
      "\u001b[0;31m---------------------------------------------------------------------------\u001b[0m",
      "\u001b[0;31mNameError\u001b[0m                                 Traceback (most recent call last)",
      "\u001b[0;32m<ipython-input-2-d43b795d642a>\u001b[0m in \u001b[0;36m<module>\u001b[0;34m()\u001b[0m\n\u001b[0;32m----> 1\u001b[0;31m \u001b[0mx\u001b[0m\u001b[1;33m[\u001b[0m\u001b[1;34m'bidtrac'\u001b[0m\u001b[1;33m]\u001b[0m\u001b[1;33m.\u001b[0m\u001b[0mindex\u001b[0m\u001b[1;33m(\u001b[0m\u001b[1;33m[\u001b[0m\u001b[1;36m0\u001b[0m\u001b[1;33m,\u001b[0m\u001b[1;36m0\u001b[0m\u001b[1;33m]\u001b[0m\u001b[1;33m)\u001b[0m\u001b[1;33m\u001b[0m\u001b[0m\n\u001b[0m",
      "\u001b[0;31mNameError\u001b[0m: name 'x' is not defined"
     ]
    }
   ],
   "source": [
    "x['bidtrac'].index([0,0])"
   ]
  },
  {
   "cell_type": "code",
   "execution_count": 24,
   "metadata": {
    "collapsed": false
   },
   "outputs": [],
   "source": [
    "x = queries.set_inactive()"
   ]
  },
  {
   "cell_type": "code",
   "execution_count": 3,
   "metadata": {
    "collapsed": false,
    "scrolled": true
   },
   "outputs": [
    {
     "ename": "TypeError",
     "evalue": "'float' object is not iterable",
     "output_type": "error",
     "traceback": [
      "\u001b[0;31m---------------------------------------------------------------------------\u001b[0m",
      "\u001b[0;31mTypeError\u001b[0m                                 Traceback (most recent call last)",
      "\u001b[0;32m<ipython-input-3-480c5978d88a>\u001b[0m in \u001b[0;36m<module>\u001b[0;34m()\u001b[0m\n\u001b[1;32m      1\u001b[0m \u001b[0mcount\u001b[0m \u001b[1;33m=\u001b[0m \u001b[1;36m0\u001b[0m\u001b[1;33m\u001b[0m\u001b[0m\n\u001b[0;32m----> 2\u001b[0;31m \u001b[1;32mfor\u001b[0m \u001b[0mi\u001b[0m \u001b[1;32min\u001b[0m \u001b[0mx\u001b[0m\u001b[1;33m:\u001b[0m\u001b[1;33m\u001b[0m\u001b[0m\n\u001b[0m\u001b[1;32m      3\u001b[0m     \u001b[0mcount\u001b[0m \u001b[1;33m+=\u001b[0m \u001b[1;36m1\u001b[0m\u001b[1;33m\u001b[0m\u001b[0m\n",
      "\u001b[0;31mTypeError\u001b[0m: 'float' object is not iterable"
     ]
    }
   ],
   "source": [
    "count = 0\n",
    "for i in x:\n",
    "    count += 1\n"
   ]
  },
  {
   "cell_type": "code",
   "execution_count": 4,
   "metadata": {
    "collapsed": false
   },
   "outputs": [
    {
     "data": {
      "text/plain": [
       "'12/30/16 02:47'"
      ]
     },
     "execution_count": 4,
     "metadata": {},
     "output_type": "execute_result"
    }
   ],
   "source": [
    "wowapi.print_time(x)\n"
   ]
  },
  {
   "cell_type": "code",
   "execution_count": 8,
   "metadata": {
    "collapsed": false
   },
   "outputs": [
    {
     "data": {
      "text/plain": [
       "'12/30/16 02:30'"
      ]
     },
     "execution_count": 8,
     "metadata": {},
     "output_type": "execute_result"
    }
   ],
   "source": [
    "import time\n",
    "time.strftime(\"%D %H:%M\", time.localtime(int(x)))\n",
    "\n",
    "\n"
   ]
  },
  {
   "cell_type": "code",
   "execution_count": 15,
   "metadata": {
    "collapsed": false
   },
   "outputs": [
    {
     "data": {
      "text/plain": [
       "{'_id': ObjectId('586412e4936aa224e669bce6'),\n",
       " 'auc': 188186026,\n",
       " 'bid': 6500300,\n",
       " 'bidincrease': 'N',\n",
       " 'bidtrac': [[6500300, 1483093806.779973],\n",
       "  [6500300, 1482960609.0854352],\n",
       "  [6500300, 1482964207.8995664],\n",
       "  [6500300, 1482967807.7148645],\n",
       "  [6500300, 1482971407.3334749],\n",
       "  [6500300, 1482975007.1053023],\n",
       "  [6500300, 1482978608.084497],\n",
       "  [6500300, 1482982207.1278973],\n",
       "  [6500300, 1482985807.807061],\n",
       "  [6500300, 1482987487.8531857],\n",
       "  [6500300, 1483079406.6428733],\n",
       "  [0, 0],\n",
       "  [0, 0],\n",
       "  [0, 0],\n",
       "  [0, 0],\n",
       "  [0, 0],\n",
       "  [0, 0],\n",
       "  [0, 0],\n",
       "  [0, 0],\n",
       "  [0, 0],\n",
       "  [0, 0],\n",
       "  [0, 0],\n",
       "  [0, 0],\n",
       "  [0, 0],\n",
       "  [0, 0],\n",
       "  [0, 0],\n",
       "  [0, 0],\n",
       "  [0, 0],\n",
       "  [0, 0],\n",
       "  [0, 0],\n",
       "  [0, 0],\n",
       "  [0, 0],\n",
       "  [0, 0],\n",
       "  [0, 0],\n",
       "  [0, 0],\n",
       "  [0, 0],\n",
       "  [0, 0],\n",
       "  [0, 0],\n",
       "  [0, 0],\n",
       "  [0, 0],\n",
       "  [0, 0],\n",
       "  [0, 0],\n",
       "  [0, 0],\n",
       "  [0, 0],\n",
       "  [0, 0]],\n",
       " 'buyout': 6750000,\n",
       " 'context': 0,\n",
       " 'item': 123919,\n",
       " 'item_class': 'Item Enhancement!',\n",
       " 'item_subclass': 'Metal & Stone',\n",
       " 'itemname': 'Felslate',\n",
       " 'owner': 'Moadibb',\n",
       " 'ownerRealm': 'Blackwater Raiders',\n",
       " 'quantity': 10,\n",
       " 'rand': 0,\n",
       " 'seed': 0,\n",
       " 'status': 'Active',\n",
       " 'timeLeft': 'VERY_LONG',\n",
       " 'timeupdated': 1483093806.779973,\n",
       " 'username': {'name': 'Moadibb', 'server': 'Blackwater Raiders'},\n",
       " 'viewtime': 1482953407.4901915}"
      ]
     },
     "execution_count": 15,
     "metadata": {},
     "output_type": "execute_result"
    }
   ],
   "source": [
    "auctions.find_one({'status':'Active','itemname':'Felslate'})"
   ]
  },
  {
   "cell_type": "code",
   "execution_count": 33,
   "metadata": {
    "collapsed": false
   },
   "outputs": [],
   "source": [
    "pipeline = auctions.aggregate([\n",
    "        {'$match': {'status': 'Active', 'item_subclass':'Metal & Stone'}},\n",
    "        {'$group': {\n",
    "                '_id':'$itemname',\n",
    "            'quantity': {'$sum' :'$quantity'},\n",
    "            'buyout':{'$avg':{'$divide':[{'$divide':['$buyout','$quantity']},10000]}}}}\n",
    "    ])"
   ]
  },
  {
   "cell_type": "code",
   "execution_count": 34,
   "metadata": {
    "collapsed": false,
    "scrolled": true
   },
   "outputs": [
    {
     "name": "stdout",
     "output_type": "stream",
     "text": [
      "{'_id': 'Saronite Bar', 'quantity': 2, 'buyout': 12.08}\n",
      "{'_id': 'Khorium Ore', 'quantity': 1, 'buyout': 25.75}\n",
      "{'_id': 'Obsidium Ore Nugget', 'quantity': 7, 'buyout': 1.83}\n",
      "{'_id': 'Coarse Stone', 'quantity': 232, 'buyout': 1.6546617771084335}\n",
      "{'_id': 'Fel Iron Ore', 'quantity': 5, 'buyout': 25.7414}\n",
      "{'_id': 'Cobalt Bar', 'quantity': 1, 'buyout': 7.72}\n",
      "{'_id': 'Guardian Stone', 'quantity': 4, 'buyout': 8.7497}\n",
      "{'_id': 'Fel Iron Bar', 'quantity': 15, 'buyout': 25.0}\n",
      "{'_id': 'Obsidium Bar', 'quantity': 15, 'buyout': 25.0}\n",
      "{'_id': 'Ghost Iron Bar', 'quantity': 65, 'buyout': 60.92983636363636}\n",
      "{'_id': 'Silver Bar', 'quantity': 84, 'buyout': 3.415565217391304}\n",
      "{'_id': 'Trillium Bar', 'quantity': 15, 'buyout': 550.0}\n",
      "{'_id': 'Coarse Grinding Stone', 'quantity': 10, 'buyout': 26.489399999999996}\n",
      "{'_id': 'Elementium Bar', 'quantity': 45, 'buyout': 2.3794066666666667}\n",
      "{'_id': 'Adamantite Ore Nugget', 'quantity': 210, 'buyout': 0.9319047619047618}\n",
      "{'_id': 'Truesilver Ore Nugget', 'quantity': 5, 'buyout': 0.05}\n",
      "{'_id': 'Black Trillium Ore', 'quantity': 46, 'buyout': 85.0896}\n",
      "{'_id': 'Eternium Ore', 'quantity': 10, 'buyout': 36.0076375}\n",
      "{'_id': 'True Iron Nugget', 'quantity': 61, 'buyout': 6.108928571428572}\n",
      "{'_id': 'Thorium Ore Nugget', 'quantity': 3, 'buyout': 0.06966666666666667}\n",
      "{'_id': 'Copper Ore', 'quantity': 301, 'buyout': 0.8764024874686714}\n",
      "{'_id': 'True Iron Ore', 'quantity': 813, 'buyout': 5.206978483245149}\n",
      "{'_id': 'Ghost Iron Ore', 'quantity': 33, 'buyout': 16.2814}\n",
      "{'_id': 'Elementium Ore Nugget', 'quantity': 15, 'buyout': 10.58594}\n",
      "{'_id': 'Cobalt Ore', 'quantity': 96, 'buyout': 1.8287040081177066}\n",
      "{'_id': 'Rough Stone', 'quantity': 255, 'buyout': 0.06444021739130436}\n",
      "{'_id': 'Adamantite Ore', 'quantity': 90, 'buyout': 6.8387}\n",
      "{'_id': 'Elementium Ore', 'quantity': 757, 'buyout': 10.541927777777778}\n",
      "{'_id': 'Blackrock Ore', 'quantity': 3867, 'buyout': 1.673855172413793}\n",
      "{'_id': 'Kyparite', 'quantity': 584, 'buyout': 2.0926388065843624}\n",
      "{'_id': 'Living Steel', 'quantity': 70, 'buyout': 2945.3779361111106}\n",
      "{'_id': 'Gold Bar', 'quantity': 26, 'buyout': 5.373926666666666}\n",
      "{'_id': 'Titansteel Bar', 'quantity': 2, 'buyout': 1800.0}\n",
      "{'_id': 'Copper Bar', 'quantity': 435, 'buyout': 1.951875}\n",
      "{'_id': 'White Trillium Ore', 'quantity': 1, 'buyout': 65.2456}\n",
      "{'_id': 'Mithril Ore', 'quantity': 271, 'buyout': 4.0199284340659345}\n",
      "{'_id': 'Truesilver Ore', 'quantity': 20, 'buyout': 10.0}\n",
      "{'_id': 'Bronze Bar', 'quantity': 341, 'buyout': 3.780870876106195}\n",
      "{'_id': 'Sulfuron Ingot', 'quantity': 15, 'buyout': 468.9999981818182}\n",
      "{'_id': 'Tin Ore', 'quantity': 159, 'buyout': 1.8419606481481483}\n",
      "{'_id': 'Tin Bar', 'quantity': 206, 'buyout': 4.861008974358974}\n",
      "{'_id': 'Gold Ore', 'quantity': 18, 'buyout': 27.53628181818182}\n",
      "{'_id': 'Adamantite Bar', 'quantity': 58, 'buyout': 12.381599999999999}\n",
      "{'_id': 'Iron Ore Nugget', 'quantity': 22, 'buyout': 2.1701055555555557}\n",
      "{'_id': 'Silver Ore', 'quantity': 26, 'buyout': 16.09777934782609}\n",
      "{'_id': 'Blackrock Fragment', 'quantity': 176, 'buyout': 0.13838571428571428}\n",
      "{'_id': 'Iron Ore', 'quantity': 44, 'buyout': 2.7503571428571436}\n",
      "{'_id': 'Iron Bar', 'quantity': 342, 'buyout': 4.846512605042038}\n",
      "{'_id': 'Coal', 'quantity': 44, 'buyout': 0.053519047619047626}\n",
      "{'_id': 'Obsidium Ore', 'quantity': 21, 'buyout': 19.82845}\n",
      "{'_id': 'Heavy Stone', 'quantity': 32, 'buyout': 0.08541416666666667}\n",
      "{'_id': 'Truesilver Bar', 'quantity': 21, 'buyout': 9.832936842105264}\n",
      "{'_id': 'Demonsteel Bar', 'quantity': 288, 'buyout': 320.33280996168577}\n",
      "{'_id': 'Felslate', 'quantity': 2026, 'buyout': 64.7098022709118}\n",
      "{'_id': 'Titanium Bar', 'quantity': 4, 'buyout': 250.0}\n",
      "{'_id': 'Ghost Iron Nugget', 'quantity': 6, 'buyout': 5.97599}\n",
      "{'_id': 'Eternium Bar', 'quantity': 3, 'buyout': 25.083333333333336}\n",
      "{'_id': 'Gold Ore Nugget', 'quantity': 28, 'buyout': 0.242475}\n",
      "{'_id': 'Dark Iron Ore', 'quantity': 23, 'buyout': 103.33333333333333}\n",
      "{'_id': 'Dense Stone', 'quantity': 391, 'buyout': 0.0984197326526131}\n",
      "{'_id': 'Solid Stone', 'quantity': 123, 'buyout': 0.13474303596403597}\n",
      "{'_id': 'Saronite Ore', 'quantity': 14, 'buyout': 6.45}\n",
      "{'_id': 'Infernal Brimstone', 'quantity': 137, 'buyout': 215.82338505050507}\n",
      "{'_id': 'Leystone Ore', 'quantity': 1997, 'buyout': 27.153155586815373}\n",
      "{'_id': 'Fel Iron Ore Nugget', 'quantity': 180, 'buyout': 0.5555555555555556}\n",
      "{'_id': 'Mithril Bar', 'quantity': 22, 'buyout': 9.494104545454546}\n",
      "{'_id': 'Thorium Ore', 'quantity': 1143, 'buyout': 4.669795081967212}\n",
      "{'_id': 'Mithril Ore Nugget', 'quantity': 14, 'buyout': 4.98}\n",
      "{'_id': 'Pyrite Ore', 'quantity': 340, 'buyout': 81.87725}\n",
      "{'_id': 'Thorium Bar', 'quantity': 231, 'buyout': 3.141666666666667}\n",
      "{'_id': 'Cobalt Ore Nugget', 'quantity': 19, 'buyout': 2.105263157894737}\n",
      "{'_id': 'Pyrium Bar', 'quantity': 9, 'buyout': 136.66666666666669}\n",
      "{'_id': 'Elementium Ingot', 'quantity': 14, 'buyout': 249.02362}\n"
     ]
    }
   ],
   "source": [
    "for i in pipeline:\n",
    "    print(i)"
   ]
  },
  {
   "cell_type": "code",
   "execution_count": null,
   "metadata": {
    "collapsed": true
   },
   "outputs": [],
   "source": []
  }
 ],
 "metadata": {
  "anaconda-cloud": {},
  "kernelspec": {
   "display_name": "Python [conda root]",
   "language": "python",
   "name": "conda-root-py"
  },
  "language_info": {
   "codemirror_mode": {
    "name": "ipython",
    "version": 3
   },
   "file_extension": ".py",
   "mimetype": "text/x-python",
   "name": "python",
   "nbconvert_exporter": "python",
   "pygments_lexer": "ipython3",
   "version": "3.5.2"
  }
 },
 "nbformat": 4,
 "nbformat_minor": 1
}
