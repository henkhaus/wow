{
 "cells": [
  {
   "cell_type": "markdown",
   "metadata": {},
   "source": [
    "Below is the import statment used to run all WOWdb code"
   ]
  },
  {
   "cell_type": "code",
   "execution_count": 74,
   "metadata": {
    "collapsed": false
   },
   "outputs": [],
   "source": [
    "from wowlib import itemclasses as profile\n",
    "import pymongo\n",
    "from pymongo import MongoClient\n",
    "from matplotlib import pyplot as plt\n",
    "import datetime\n",
    "from wowlib import wowapi, queries\n",
    "import datetime\n",
    "client = MongoClient(\"mongodb://76.31.221.129:27017/\")\n",
    "\n",
    "db = client.wowtest\n",
    "db2 = client.wow\n",
    "auctions = db2.auctiondata\n",
    "items = db2.items\n",
    "\n",
    "def printtime(unixtime):\n",
    "    \n",
    "    timestamp =(\n",
    "        datetime.datetime.fromtimestamp(\n",
    "            float(unixtime)\n",
    "        ).strftime('%Y-%m-%d %H:%M:%S')\n",
    "    )\n",
    "    print(timestamp)\n",
    "    return timestamp"
   ]
  },
  {
   "cell_type": "markdown",
   "metadata": {},
   "source": [
    "create a list of items"
   ]
  },
  {
   "cell_type": "code",
   "execution_count": 92,
   "metadata": {
    "collapsed": false
   },
   "outputs": [
    {
     "name": "stdout",
     "output_type": "stream",
     "text": [
      "12093\n"
     ]
    }
   ],
   "source": [
    "item_list = items.find().distinct('id')\n",
    "print (len(item_list))\n",
    "test = items.find_one({'name': 'Felslate'})\n"
   ]
  },
  {
   "cell_type": "code",
   "execution_count": 109,
   "metadata": {
    "collapsed": false
   },
   "outputs": [
    {
     "name": "stdout",
     "output_type": "stream",
     "text": [
      "126\n"
     ]
    }
   ],
   "source": [
    "hour_list = auctions.find({'itemname':'Felslate'}).distinct('timeupdated')\n",
    "print (len(hour_list))\n",
    "hour_list = sorted(hour_list)\n",
    "last5_hours = hour_list[-6:-1]\n",
    "fivehoursago =(last5_hours[0])\n",
    "lasthour =(last5_hours[-1])\n"
   ]
  },
  {
   "cell_type": "code",
   "execution_count": 125,
   "metadata": {
    "collapsed": false,
    "scrolled": true
   },
   "outputs": [
    {
     "name": "stdout",
     "output_type": "stream",
     "text": [
      "_\n",
      "{'quantity': 313, 'stdDev': 0.19881479394801646, 'bid': 58.929823161764695, 'max': 63.5, 'buyout': 61.037470220588226, '_id': 1482762607.1971185}\n",
      "{'quantity': 25, 'stdDev': None, 'bid': 75.0, 'max': 75.0, 'buyout': 75.0, '_id': 1482733807.1637807}\n",
      "{'quantity': 4, 'stdDev': 0.0, 'bid': 59.3979, 'max': 64.4477, 'buyout': 64.4477, '_id': 1482737406.8397422}\n",
      "{'quantity': 100, 'stdDev': 3.535533906034404e-07, 'bid': 120.01005, 'max': 120.02, 'buyout': 120.01995, '_id': 1482730208.289831}\n",
      "{'quantity': 1592, 'stdDev': 0.14047057475137742, 'bid': 73.68817837233904, 'max': 105.75, 'buyout': 76.20283568352409, '_id': 1482769807.8849354}\n",
      "{'quantity': 599, 'stdDev': 0.0034646760786556, 'bid': 120.0199, 'max': 120.01989999999999, 'buyout': 120.0199, '_id': 1482748207.3031483}\n",
      "{'quantity': 33, 'stdDev': None, 'bid': 120.0199, 'max': 120.0199, 'buyout': 120.0199, '_id': 1482744607.080935}\n"
     ]
    }
   ],
   "source": [
    "\n",
    "pipeline = auctions.aggregate([\n",
    "        {'$match': {'item':test['id'], 'timeupdated':{'$gte':fivehoursago}}},\n",
    "        {'$group': {\n",
    "                '_id': '$timeupdated',\n",
    "                'bid': {'$avg': {'$divide': [{'$divide':['$bid','$quantity']},10000]}},\n",
    "                'buyout': {'$avg': {'$divide': [{'$divide':['$buyout','$quantity']},10000]}},\n",
    "                'quantity': {'$sum': '$quantity'},\n",
    "                'stdDev': { '$stdDevSamp': {'$divide': [{'$divide': [\"$buyout\" ,10000]},10000]}},\n",
    "                'max': {'$max': {'$divide': [{'$divide': ['$buyout',10000]},'$quantity']}}\n",
    "            }}\n",
    "        \n",
    "\n",
    "    ])\n",
    "print('_')\n",
    "for i in pipeline:\n",
    "    #printtime(last_hour)\n",
    "    print(i)"
   ]
  },
  {
   "cell_type": "code",
   "execution_count": 79,
   "metadata": {
    "collapsed": false
   },
   "outputs": [],
   "source": [
    "for i in pipeline:\n",
    "    print(i)"
   ]
  },
  {
   "cell_type": "code",
   "execution_count": null,
   "metadata": {
    "collapsed": true
   },
   "outputs": [],
   "source": []
  }
 ],
 "metadata": {
  "anaconda-cloud": {},
  "kernelspec": {
   "display_name": "Python [conda root]",
   "language": "python",
   "name": "conda-root-py"
  },
  "language_info": {
   "codemirror_mode": {
    "name": "ipython",
    "version": 3
   },
   "file_extension": ".py",
   "mimetype": "text/x-python",
   "name": "python",
   "nbconvert_exporter": "python",
   "pygments_lexer": "ipython3",
   "version": "3.5.2"
  }
 },
 "nbformat": 4,
 "nbformat_minor": 1
}
