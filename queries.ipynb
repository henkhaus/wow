{
 "cells": [
  {
   "cell_type": "code",
   "execution_count": 1,
   "metadata": {
    "collapsed": false
   },
   "outputs": [],
   "source": [
    "from wowlib import mongoconnection, queries, wowapi\n",
    "auctions = mongoconnection.auctionconnection()"
   ]
  },
  {
   "cell_type": "code",
   "execution_count": 11,
   "metadata": {
    "collapsed": false
   },
   "outputs": [],
   "source": [
    "x =auctions.find_one({'auc':184043683}, {'bidtrac':[0,0]})"
   ]
  },
  {
   "cell_type": "code",
   "execution_count": 2,
   "metadata": {
    "collapsed": false
   },
   "outputs": [
    {
     "ename": "NameError",
     "evalue": "name 'x' is not defined",
     "output_type": "error",
     "traceback": [
      "\u001b[0;31m---------------------------------------------------------------------------\u001b[0m",
      "\u001b[0;31mNameError\u001b[0m                                 Traceback (most recent call last)",
      "\u001b[0;32m<ipython-input-2-d43b795d642a>\u001b[0m in \u001b[0;36m<module>\u001b[0;34m()\u001b[0m\n\u001b[0;32m----> 1\u001b[0;31m \u001b[0mx\u001b[0m\u001b[1;33m[\u001b[0m\u001b[1;34m'bidtrac'\u001b[0m\u001b[1;33m]\u001b[0m\u001b[1;33m.\u001b[0m\u001b[0mindex\u001b[0m\u001b[1;33m(\u001b[0m\u001b[1;33m[\u001b[0m\u001b[1;36m0\u001b[0m\u001b[1;33m,\u001b[0m\u001b[1;36m0\u001b[0m\u001b[1;33m]\u001b[0m\u001b[1;33m)\u001b[0m\u001b[1;33m\u001b[0m\u001b[0m\n\u001b[0m",
      "\u001b[0;31mNameError\u001b[0m: name 'x' is not defined"
     ]
    }
   ],
   "source": [
    "x['bidtrac'].index([0,0])"
   ]
  },
  {
   "cell_type": "code",
   "execution_count": 3,
   "metadata": {
    "collapsed": false
   },
   "outputs": [],
   "source": [
    "x = queries.set_inactive()"
   ]
  },
  {
   "cell_type": "code",
   "execution_count": 3,
   "metadata": {
    "collapsed": false,
    "scrolled": true
   },
   "outputs": [
    {
     "ename": "TypeError",
     "evalue": "'float' object is not iterable",
     "output_type": "error",
     "traceback": [
      "\u001b[0;31m---------------------------------------------------------------------------\u001b[0m",
      "\u001b[0;31mTypeError\u001b[0m                                 Traceback (most recent call last)",
      "\u001b[0;32m<ipython-input-3-480c5978d88a>\u001b[0m in \u001b[0;36m<module>\u001b[0;34m()\u001b[0m\n\u001b[1;32m      1\u001b[0m \u001b[0mcount\u001b[0m \u001b[1;33m=\u001b[0m \u001b[1;36m0\u001b[0m\u001b[1;33m\u001b[0m\u001b[0m\n\u001b[0;32m----> 2\u001b[0;31m \u001b[1;32mfor\u001b[0m \u001b[0mi\u001b[0m \u001b[1;32min\u001b[0m \u001b[0mx\u001b[0m\u001b[1;33m:\u001b[0m\u001b[1;33m\u001b[0m\u001b[0m\n\u001b[0m\u001b[1;32m      3\u001b[0m     \u001b[0mcount\u001b[0m \u001b[1;33m+=\u001b[0m \u001b[1;36m1\u001b[0m\u001b[1;33m\u001b[0m\u001b[0m\n",
      "\u001b[0;31mTypeError\u001b[0m: 'float' object is not iterable"
     ]
    }
   ],
   "source": [
    "count = 0\n",
    "for i in x:\n",
    "    count += 1\n"
   ]
  },
  {
   "cell_type": "code",
   "execution_count": 4,
   "metadata": {
    "collapsed": false
   },
   "outputs": [
    {
     "data": {
      "text/plain": [
       "'12/30/16 02:47'"
      ]
     },
     "execution_count": 4,
     "metadata": {},
     "output_type": "execute_result"
    }
   ],
   "source": [
    "wowapi.print_time(x)\n"
   ]
  },
  {
   "cell_type": "code",
   "execution_count": 8,
   "metadata": {
    "collapsed": false
   },
   "outputs": [
    {
     "data": {
      "text/plain": [
       "'12/30/16 02:30'"
      ]
     },
     "execution_count": 8,
     "metadata": {},
     "output_type": "execute_result"
    }
   ],
   "source": [
    "import time\n",
    "time.strftime(\"%D %H:%M\", time.localtime(int(x)))\n",
    "\n",
    "\n"
   ]
  },
  {
   "cell_type": "code",
   "execution_count": 15,
   "metadata": {
    "collapsed": false
   },
   "outputs": [
    {
     "data": {
      "text/plain": [
       "{'_id': ObjectId('586412e4936aa224e669bce6'),\n",
       " 'auc': 188186026,\n",
       " 'bid': 6500300,\n",
       " 'bidincrease': 'N',\n",
       " 'bidtrac': [[6500300, 1483093806.779973],\n",
       "  [6500300, 1482960609.0854352],\n",
       "  [6500300, 1482964207.8995664],\n",
       "  [6500300, 1482967807.7148645],\n",
       "  [6500300, 1482971407.3334749],\n",
       "  [6500300, 1482975007.1053023],\n",
       "  [6500300, 1482978608.084497],\n",
       "  [6500300, 1482982207.1278973],\n",
       "  [6500300, 1482985807.807061],\n",
       "  [6500300, 1482987487.8531857],\n",
       "  [6500300, 1483079406.6428733],\n",
       "  [0, 0],\n",
       "  [0, 0],\n",
       "  [0, 0],\n",
       "  [0, 0],\n",
       "  [0, 0],\n",
       "  [0, 0],\n",
       "  [0, 0],\n",
       "  [0, 0],\n",
       "  [0, 0],\n",
       "  [0, 0],\n",
       "  [0, 0],\n",
       "  [0, 0],\n",
       "  [0, 0],\n",
       "  [0, 0],\n",
       "  [0, 0],\n",
       "  [0, 0],\n",
       "  [0, 0],\n",
       "  [0, 0],\n",
       "  [0, 0],\n",
       "  [0, 0],\n",
       "  [0, 0],\n",
       "  [0, 0],\n",
       "  [0, 0],\n",
       "  [0, 0],\n",
       "  [0, 0],\n",
       "  [0, 0],\n",
       "  [0, 0],\n",
       "  [0, 0],\n",
       "  [0, 0],\n",
       "  [0, 0],\n",
       "  [0, 0],\n",
       "  [0, 0],\n",
       "  [0, 0],\n",
       "  [0, 0]],\n",
       " 'buyout': 6750000,\n",
       " 'context': 0,\n",
       " 'item': 123919,\n",
       " 'item_class': 'Item Enhancement!',\n",
       " 'item_subclass': 'Metal & Stone',\n",
       " 'itemname': 'Felslate',\n",
       " 'owner': 'Moadibb',\n",
       " 'ownerRealm': 'Blackwater Raiders',\n",
       " 'quantity': 10,\n",
       " 'rand': 0,\n",
       " 'seed': 0,\n",
       " 'status': 'Active',\n",
       " 'timeLeft': 'VERY_LONG',\n",
       " 'timeupdated': 1483093806.779973,\n",
       " 'username': {'name': 'Moadibb', 'server': 'Blackwater Raiders'},\n",
       " 'viewtime': 1482953407.4901915}"
      ]
     },
     "execution_count": 15,
     "metadata": {},
     "output_type": "execute_result"
    }
   ],
   "source": [
    "auctions.find_one({'status':'Active','itemname':'Felslate'})"
   ]
  },
  {
   "cell_type": "code",
   "execution_count": 9,
   "metadata": {
    "collapsed": false
   },
   "outputs": [],
   "source": [
    "pipeline = auctions.aggregate([\n",
    "        \n",
    "        {'$match': {'status':'Active','item_subclass':'Metal & Stone'}},\n",
    "        {'$group': {\n",
    "            '_id':'$itemname',\n",
    "            'quantity': {'$sum' :'$quantity'},\n",
    "            'buyout':{'$avg':{'$divide':[{'$divide':['$buyout','$quantity']},10000]}}}},\n",
    "\n",
    "    ])"
   ]
  },
  {
   "cell_type": "code",
   "execution_count": 10,
   "metadata": {
    "collapsed": false,
    "scrolled": true
   },
   "outputs": [
    {
     "name": "stdout",
     "output_type": "stream",
     "text": [
      "{'quantity': 3, 'buyout': 796.6666, '_id': 'Hardened Elementium Bar'}\n",
      "{'quantity': 15, 'buyout': 30.0, '_id': 'Obsidium Bar'}\n",
      "{'quantity': 2, 'buyout': 12.08, '_id': 'Saronite Bar'}\n",
      "{'quantity': 3, 'buyout': 25.083333333333336, '_id': 'Eternium Bar'}\n",
      "{'quantity': 110, 'buyout': 2.9248614285714285, '_id': 'Bronze Bar'}\n",
      "{'quantity': 7, 'buyout': 1.83, '_id': 'Obsidium Ore Nugget'}\n",
      "{'quantity': 157, 'buyout': 1.6546025, '_id': 'Coarse Stone'}\n",
      "{'quantity': 5, 'buyout': 25.0, '_id': 'Cobalt Bar'}\n",
      "{'quantity': 5, 'buyout': 30.0, '_id': 'Fel Iron Bar'}\n",
      "{'quantity': 4, 'buyout': 8.7497, '_id': 'Guardian Stone'}\n",
      "{'quantity': 113, 'buyout': 2.115602006688964, '_id': 'Silver Bar'}\n",
      "{'quantity': 21, 'buyout': 9.832936842105264, '_id': 'Truesilver Bar'}\n",
      "{'quantity': 65, 'buyout': 60.92983636363636, '_id': 'Ghost Iron Bar'}\n",
      "{'quantity': 960, 'buyout': 15.048156818181832, '_id': 'Ghost Iron Ore'}\n",
      "{'quantity': 15, 'buyout': 10.58594, '_id': 'Elementium Ore Nugget'}\n",
      "{'quantity': 1094, 'buyout': 54.82850777777778, '_id': 'True Iron Ore'}\n",
      "{'quantity': 229, 'buyout': 2.3922291666666666, '_id': 'Tin Ore'}\n",
      "{'quantity': 3, 'buyout': 1699.9999666666665, '_id': 'Titansteel Bar'}\n",
      "{'quantity': 339, 'buyout': 1.7857142857142858, '_id': 'Copper Bar'}\n",
      "{'quantity': 25, 'buyout': 2.3694100000000002, '_id': 'Elementium Bar'}\n",
      "{'quantity': 210, 'buyout': 0.9319047619047618, '_id': 'Adamantite Ore Nugget'}\n",
      "{'quantity': 5, 'buyout': 0.05, '_id': 'Truesilver Ore Nugget'}\n",
      "{'quantity': 46, 'buyout': 85.0896, '_id': 'Black Trillium Ore'}\n",
      "{'quantity': 30, 'buyout': 12.439919999999999, '_id': 'Adamantite Bar'}\n",
      "{'quantity': 29, 'buyout': 8.42845, '_id': 'Cobalt Ore'}\n",
      "{'quantity': 263, 'buyout': 0.10324710144927539, '_id': 'Rough Stone'}\n",
      "{'quantity': 87, 'buyout': 6.789657142857143, '_id': 'Adamantite Ore'}\n",
      "{'quantity': 757, 'buyout': 10.541927777777778, '_id': 'Elementium Ore'}\n",
      "{'quantity': 3937, 'buyout': 21.6311696969697, '_id': 'Blackrock Ore'}\n",
      "{'quantity': 567, 'buyout': 2.068194362139918, '_id': 'Kyparite'}\n",
      "{'quantity': 22, 'buyout': 6.5454, '_id': 'Gold Ore'}\n",
      "{'quantity': 188, 'buyout': 4.7616499999999995, '_id': 'Tin Bar'}\n",
      "{'quantity': 15, 'buyout': 468.9999981818182, '_id': 'Sulfuron Ingot'}\n",
      "{'quantity': 5, 'buyout': 4.0, '_id': 'Silver Ore'}\n",
      "{'quantity': 15, 'buyout': 2.173474074074074, '_id': 'Iron Ore Nugget'}\n",
      "{'quantity': 130, 'buyout': 5.384615384615384, '_id': 'Iron Ore'}\n",
      "{'quantity': 154, 'buyout': 4.9348888888889, '_id': 'Iron Bar'}\n",
      "{'quantity': 175, 'buyout': 0.13654642857142857, '_id': 'Blackrock Fragment'}\n",
      "{'quantity': 70, 'buyout': 2945.3779361111106, '_id': 'Living Steel'}\n",
      "{'quantity': 8, 'buyout': 5.359933333333331, '_id': 'Gold Bar'}\n",
      "{'quantity': 21, 'buyout': 19.82845, '_id': 'Obsidium Ore'}\n",
      "{'quantity': 44, 'buyout': 0.053519047619047626, '_id': 'Coal'}\n",
      "{'quantity': 6, 'buyout': 5.97599, '_id': 'Ghost Iron Nugget'}\n",
      "{'quantity': 391, 'buyout': 0.0984197326526131, '_id': 'Dense Stone'}\n",
      "{'quantity': 23, 'buyout': 103.33333333333333, '_id': 'Dark Iron Ore'}\n",
      "{'quantity': 90, 'buyout': 0.15101743131868134, '_id': 'Solid Stone'}\n",
      "{'quantity': 25, 'buyout': 466.6666666666667, '_id': 'Trillium Bar'}\n",
      "{'quantity': 14, 'buyout': 6.45, '_id': 'Saronite Ore'}\n",
      "{'quantity': 111, 'buyout': 218.85018466666665, '_id': 'Infernal Brimstone'}\n",
      "{'quantity': 1424, 'buyout': 26.43934828775007, '_id': 'Leystone Ore'}\n",
      "{'quantity': 97, 'buyout': 9.490429166666667, '_id': 'Mithril Bar'}\n",
      "{'quantity': 5, 'buyout': 250.0, '_id': 'Titanium Bar'}\n",
      "{'quantity': 985, 'buyout': 68.27729538706255, '_id': 'Felslate'}\n",
      "{'quantity': 268, 'buyout': 296.267641016334, '_id': 'Demonsteel Bar'}\n",
      "{'quantity': 959, 'buyout': 4.7175980392156855, '_id': 'Thorium Ore'}\n",
      "{'quantity': 4, 'buyout': 4.98, '_id': 'Mithril Ore Nugget'}\n",
      "{'quantity': 340, 'buyout': 81.87725, '_id': 'Pyrite Ore'}\n",
      "{'quantity': 158, 'buyout': 4.339842857142857, '_id': 'Mithril Ore'}\n",
      "{'quantity': 231, 'buyout': 3.141666666666667, '_id': 'Thorium Bar'}\n",
      "{'quantity': 19, 'buyout': 2.105263157894737, '_id': 'Cobalt Ore Nugget'}\n",
      "{'quantity': 16, 'buyout': 244.33036363636364, '_id': 'Elementium Ingot'}\n",
      "{'quantity': 20, 'buyout': 1.182, '_id': 'Copper Ore'}\n",
      "{'quantity': 3, 'buyout': 0.06966666666666667, '_id': 'Thorium Ore Nugget'}\n",
      "{'quantity': 19, 'buyout': 18.678631578947364, '_id': 'Coarse Grinding Stone'}\n",
      "{'quantity': 61, 'buyout': 6.108928571428572, '_id': 'True Iron Nugget'}\n",
      "{'quantity': 11, 'buyout': 35.36511111111111, '_id': 'Eternium Ore'}\n",
      "{'quantity': 5, 'buyout': 25.7414, '_id': 'Fel Iron Ore'}\n"
     ]
    }
   ],
   "source": [
    "for i in pipeline:\n",
    "    print(i)"
   ]
  },
  {
   "cell_type": "code",
   "execution_count": null,
   "metadata": {
    "collapsed": true
   },
   "outputs": [],
   "source": []
  }
 ],
 "metadata": {
  "anaconda-cloud": {},
  "kernelspec": {
   "display_name": "Python [conda root]",
   "language": "python",
   "name": "conda-root-py"
  },
  "language_info": {
   "codemirror_mode": {
    "name": "ipython",
    "version": 3
   },
   "file_extension": ".py",
   "mimetype": "text/x-python",
   "name": "python",
   "nbconvert_exporter": "python",
   "pygments_lexer": "ipython3",
   "version": "3.5.2"
  }
 },
 "nbformat": 4,
 "nbformat_minor": 1
}
